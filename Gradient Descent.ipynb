{
 "cells": [
  {
   "cell_type": "code",
   "execution_count": 212,
   "id": "ca3b961c",
   "metadata": {},
   "outputs": [],
   "source": [
    "import copy, math\n",
    "import numpy as np\n",
    "import matplotlib.pyplot as plt"
   ]
  },
  {
   "cell_type": "code",
   "execution_count": 213,
   "id": "ab7d90ce",
   "metadata": {},
   "outputs": [],
   "source": [
    "X_train = np.array([[2104, 5, 1, 45], [1416, 3, 2, 40], [852, 2, 1, 35]])\n",
    "y_train = np.array([460, 232, 178])\n",
    "\n",
    "#In training dataset, We have 4 features for each row. For each row, we have a target value Y#"
   ]
  },
  {
   "cell_type": "code",
   "execution_count": 214,
   "id": "81901e6a",
   "metadata": {},
   "outputs": [
    {
     "name": "stdout",
     "output_type": "stream",
     "text": [
      "X Shape: (3, 4), X Type:<class 'numpy.ndarray'>)\n",
      "[[2104    5    1   45]\n",
      " [1416    3    2   40]\n",
      " [ 852    2    1   35]]\n",
      "y Shape: (3,), y Type:<class 'numpy.ndarray'>)\n",
      "[460 232 178]\n"
     ]
    }
   ],
   "source": [
    "# data is stored in numpy array/matrix\n",
    "print(f\"X Shape: {X_train.shape}, X Type:{type(X_train)})\")\n",
    "print(X_train)\n",
    "print(f\"y Shape: {y_train.shape}, y Type:{type(y_train)})\")\n",
    "print(y_train)"
   ]
  },
  {
   "cell_type": "code",
   "execution_count": 215,
   "id": "d733c310",
   "metadata": {},
   "outputs": [
    {
     "name": "stdout",
     "output_type": "stream",
     "text": [
      "w_init shape: (4,), b_init type: <class 'float'>\n"
     ]
    }
   ],
   "source": [
    "b_init = 785.1811367994083\n",
    "w_init = np.array([ 0.39133535, 18.75376741, -53.36032453, -26.42131618])\n",
    "print(f\"w_init shape: {w_init.shape}, b_init type: {type(b_init)}\")"
   ]
  },
  {
   "cell_type": "code",
   "execution_count": 216,
   "id": "6ea5fdc4",
   "metadata": {},
   "outputs": [],
   "source": [
    "#input x,ini w,b,so,we can get a y_hat which is predicted Y#\n",
    "def predict_single_loop(x,w,b):\n",
    "    n=x.shape[0]\n",
    "    p=0\n",
    "    for i in range(n):\n",
    "        p=p+x[i]*w[i]\n",
    "    p=p+b\n",
    "    return p"
   ]
  },
  {
   "cell_type": "code",
   "execution_count": 217,
   "id": "084483ce",
   "metadata": {},
   "outputs": [
    {
     "name": "stdout",
     "output_type": "stream",
     "text": [
      "[2104    5    1   45] 459.9999976194083\n"
     ]
    }
   ],
   "source": [
    "print(X_train[0,:],predict_single_loop(X_train[0,:],w_init,b_init))"
   ]
  },
  {
   "cell_type": "code",
   "execution_count": 218,
   "id": "2804e31a",
   "metadata": {},
   "outputs": [],
   "source": [
    "#This function is to predict vector number, it  is easier compare wtih predict_single_loop function. Just using np.dot()#\n",
    "def predict_vector_single_loop(x,w,b):\n",
    "    p=np.dot(x,w)\n",
    "    p=p+b\n",
    "    return p\n"
   ]
  },
  {
   "cell_type": "code",
   "execution_count": 219,
   "id": "f710faf0",
   "metadata": {},
   "outputs": [
    {
     "name": "stdout",
     "output_type": "stream",
     "text": [
      "[2104    5    1   45] 459.9999976194083\n"
     ]
    }
   ],
   "source": [
    "print(X_train[0,:],predict_vector_single_loop(X_train[0,:],w_init,b_init))"
   ]
  },
  {
   "cell_type": "code",
   "execution_count": 220,
   "id": "1f52792a",
   "metadata": {},
   "outputs": [],
   "source": [
    "#Cost function for 3 rows#\n",
    "def cost_function(x,y,w,b):\n",
    "    m=x.shape[0]\n",
    "    Cost=0\n",
    "    for i in range(m):\n",
    "        Cost=Cost+((np.dot(x[i],w)+b-y[i])**2)\n",
    "    Cost=Cost/(2*m)\n",
    "    return Cost"
   ]
  },
  {
   "cell_type": "code",
   "execution_count": 221,
   "id": "1cf24886",
   "metadata": {},
   "outputs": [
    {
     "name": "stdout",
     "output_type": "stream",
     "text": [
      "1.5578904045996674e-12\n"
     ]
    }
   ],
   "source": [
    "print(cost_function(X_train, y_train, w_init, b_init))"
   ]
  },
  {
   "cell_type": "code",
   "execution_count": 222,
   "id": "05f8ff8b",
   "metadata": {},
   "outputs": [],
   "source": [
    "#Computer gradient for multi liner regression and it return derivative#\n",
    "def gradient(x,y,w,b):\n",
    "    # for line\n",
    "    m,n=x.shape\n",
    "    dj_w=np.zeros((n,))\n",
    "    dj_b=0\n",
    "    for i in range(m):\n",
    "        \n",
    "      error=np.dot(x[i],w)+b-y[i]\n",
    "      for j in range(n):\n",
    "        dj_w[j]=dj_w[j]+error*x[i,j]\n",
    "      dj_b=dj_b+error\n",
    "    dj_w=dj_w/m\n",
    "    dj_b=dj_b/m\n",
    "    return dj_b,dj_w\n"
   ]
  },
  {
   "cell_type": "code",
   "execution_count": 223,
   "id": "1be1eca2",
   "metadata": {},
   "outputs": [
    {
     "name": "stdout",
     "output_type": "stream",
     "text": [
      "dj_w: [-2.72623574e-03 -6.27197255e-06 -2.21745574e-06 -6.92403377e-05]\n",
      "dj_b: -1.6739251122999121e-06\n"
     ]
    }
   ],
   "source": [
    "dj_b,dj_w = gradient(X_train, y_train, w_init, b_init)\n",
    "print('dj_w:',dj_w)\n",
    "print('dj_b:',dj_b)"
   ]
  },
  {
   "cell_type": "code",
   "execution_count": 224,
   "id": "344aac7f",
   "metadata": {},
   "outputs": [],
   "source": [
    "#Now we add alpga rate and iteration in the gradient descent function#\n",
    "def gradient_descent(x, y, w_in, b_in, cost_function, gradient, alpha, num_iters):\n",
    "    history=[]\n",
    "    w=copy.deepcopy(w_in)\n",
    "    b=b_in\n",
    "    for i in range(num_iters):\n",
    "        dj_b,dj_w=gradient(x,y,w,b)\n",
    "        w=w-alpha*dj_w\n",
    "        b=b-alpha*dj_b\n",
    "    \n",
    "        if i<100000:      # prevent resource exhaustion \n",
    "            history.append( cost_function(x, y, w, b))\n",
    "\n",
    "        if i% math.ceil(num_iters / 10) == 0:\n",
    "            print('Iteration:', i, 'Cost:',history[-1])\n",
    "    return w,b,history"
   ]
  },
  {
   "cell_type": "code",
   "execution_count": 225,
   "id": "bfc06553",
   "metadata": {},
   "outputs": [
    {
     "name": "stdout",
     "output_type": "stream",
     "text": [
      "Iteration: 0 Cost: 2529.4629522316304\n",
      "Iteration: 1000 Cost: 686.6934839275283\n",
      "Iteration: 2000 Cost: 677.1889369724992\n",
      "Iteration: 3000 Cost: 668.4815829959585\n",
      "Iteration: 4000 Cost: 660.5035880182975\n",
      "Iteration: 5000 Cost: 653.1928903567929\n",
      "Iteration: 6000 Cost: 646.492709434985\n",
      "Iteration: 7000 Cost: 640.3510963896543\n",
      "Iteration: 8000 Cost: 634.7205229186773\n",
      "Iteration: 9000 Cost: 629.5575051156565\n"
     ]
    }
   ],
   "source": [
    "initial_w = np.zeros_like(w_init)\n",
    "initial_b = 0.\n",
    "alpha=5.0e-7\n",
    "iteration=10000\n",
    "w_final,b_final,history=gradient_descent(X_train,y_train,initial_w,initial_b,cost_function,gradient,alpha,iteration)"
   ]
  },
  {
   "cell_type": "code",
   "execution_count": 226,
   "id": "bf579cdb",
   "metadata": {},
   "outputs": [
    {
     "name": "stdout",
     "output_type": "stream",
     "text": [
      "Final_DJ_W: [ 0.21699899  0.03240792 -0.10755879 -0.5799772 ]\n",
      "Final_DJ_b: -0.019077710470483216\n"
     ]
    }
   ],
   "source": [
    "print('Final_DJ_W:',w_final)\n",
    "print('Final_DJ_b:',b_final)"
   ]
  },
  {
   "cell_type": "code",
   "execution_count": 227,
   "id": "8a468f54",
   "metadata": {},
   "outputs": [
    {
     "name": "stdout",
     "output_type": "stream",
     "text": [
      "Prediction: 430.50230063959395 ActualValue: 460\n",
      "Prediction: 283.93450796752995 ActualValue: 232\n",
      "Prediction: 164.52211536512178 ActualValue: 178\n"
     ]
    }
   ],
   "source": [
    "for i in range(len(X_train)):\n",
    "    print('Prediction:',predict_vector_single_loop(X_train[i],w_final,b_final),'ActualValue:',y_train[i])"
   ]
  },
  {
   "cell_type": "code",
   "execution_count": null,
   "id": "58e597de",
   "metadata": {},
   "outputs": [],
   "source": []
  }
 ],
 "metadata": {
  "kernelspec": {
   "display_name": "Python 3 (ipykernel)",
   "language": "python",
   "name": "python3"
  },
  "language_info": {
   "codemirror_mode": {
    "name": "ipython",
    "version": 3
   },
   "file_extension": ".py",
   "mimetype": "text/x-python",
   "name": "python",
   "nbconvert_exporter": "python",
   "pygments_lexer": "ipython3",
   "version": "3.9.12"
  }
 },
 "nbformat": 4,
 "nbformat_minor": 5
}
